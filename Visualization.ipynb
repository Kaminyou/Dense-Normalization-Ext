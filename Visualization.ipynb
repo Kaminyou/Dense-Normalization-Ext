{
 "cells": [
  {
   "cell_type": "code",
   "execution_count": null,
   "id": "f010a922-cd3d-40b9-8fe4-679ebab58b11",
   "metadata": {},
   "outputs": [],
   "source": [
    "import cv2\n",
    "import matplotlib.pyplot as plt\n",
    "import numpy as np\n",
    "import numpy.typing as npt\n",
    "\n",
    "from PIL import Image\n",
    "\n",
    "\n",
    "def read_image(image_path: str) -> npt.NDArray[np.uint]:\n",
    "    image = cv2.imread(image_path)\n",
    "    image = cv2.cvtColor(image, cv2.COLOR_BGR2RGB)\n",
    "    return image\n",
    "\n",
    "\n",
    "def show_image(image_path: str) -> None:\n",
    "    image = read_image(image_path)\n",
    "    print(f\"size={image.shape}\")\n",
    "    plt.figure(figsize=(10, 10))\n",
    "    plt.imshow(image)\n",
    "    plt.axis('off')\n",
    "    plt.show()"
   ]
  },
  {
   "cell_type": "code",
   "execution_count": null,
   "id": "4705c797-d4e0-4454-babe-4cb0f87cd694",
   "metadata": {},
   "outputs": [],
   "source": [
    "image_path = './experiments/real_to_watercolor_CUT/test/pair_03_0104_gt/combined_dn_20.png'\n",
    "show_image(image_path)"
   ]
  },
  {
   "cell_type": "code",
   "execution_count": null,
   "id": "64a54c95-e150-4027-ae27-708720cebb96",
   "metadata": {},
   "outputs": [],
   "source": []
  }
 ],
 "metadata": {
  "kernelspec": {
   "display_name": "Python 3 (ipykernel)",
   "language": "python",
   "name": "python3"
  },
  "language_info": {
   "codemirror_mode": {
    "name": "ipython",
    "version": 3
   },
   "file_extension": ".py",
   "mimetype": "text/x-python",
   "name": "python",
   "nbconvert_exporter": "python",
   "pygments_lexer": "ipython3",
   "version": "3.9.5"
  }
 },
 "nbformat": 4,
 "nbformat_minor": 5
}
